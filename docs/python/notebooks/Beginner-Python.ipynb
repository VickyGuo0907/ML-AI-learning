{
  "nbformat": 4,
  "nbformat_minor": 0,
  "metadata": {
    "kernelspec": {
      "display_name": "Python 3",
      "language": "python",
      "name": "python3"
    },
    "language_info": {
      "codemirror_mode": {
        "name": "ipython",
        "version": 3
      },
      "file_extension": ".py",
      "mimetype": "text/x-python",
      "name": "python",
      "nbconvert_exporter": "python",
      "pygments_lexer": "ipython3",
      "version": "3.6.0"
    },
    "colab": {
      "name": "Beginner-Python.ipynb",
      "provenance": [],
      "toc_visible": true
    }
  },
  "cells": [
    {
      "cell_type": "markdown",
      "metadata": {
        "id": "ncJTIp3yZ9kX"
      },
      "source": [
        "# Beginner's Python Cheat sheet\n",
        "\n",
        "### Variables and Strings\n",
        "\n",
        "variable are used to store values. A string is a series of characters, surrounded by single or doubel quotes\n",
        "\n",
        "**1. Hello world**"
      ]
    },
    {
      "cell_type": "code",
      "metadata": {
        "id": "FzNeXRzHZ9kX",
        "outputId": "5714f7e7-fc4d-4f5b-b675-703b27732c01",
        "colab": {
          "base_uri": "https://localhost:8080/"
        }
      },
      "source": [
        "print(\"Hello World!\")"
      ],
      "execution_count": 1,
      "outputs": [
        {
          "output_type": "stream",
          "text": [
            "Hello World!\n"
          ],
          "name": "stdout"
        }
      ]
    },
    {
      "cell_type": "markdown",
      "metadata": {
        "id": "eY_jF5VTZ9kY"
      },
      "source": [
        "**2. Hello world with a variable**"
      ]
    },
    {
      "cell_type": "code",
      "metadata": {
        "id": "AUSz0StTZ9kY",
        "outputId": "db80832b-9d43-44d1-841c-cdafa836766f"
      },
      "source": [
        "msg = \"Hello World!\"\n",
        "print(msg)"
      ],
      "execution_count": null,
      "outputs": [
        {
          "output_type": "stream",
          "text": [
            "Hello World!\n"
          ],
          "name": "stdout"
        }
      ]
    },
    {
      "cell_type": "markdown",
      "metadata": {
        "id": "jOieqHjHZ9kY"
      },
      "source": [
        "**3. Concatenation (combining strings)**"
      ]
    },
    {
      "cell_type": "code",
      "metadata": {
        "id": "Y_qTm85iZ9kY",
        "outputId": "bee3fccb-3d28-49b8-a209-3d00d8b591fa",
        "colab": {
          "base_uri": "https://localhost:8080/"
        }
      },
      "source": [
        "first_name = 'albert'\n",
        "last_name = 'einstein'\n",
        "full_name = first_name + ' ' + last_name\n",
        "print(full_name)"
      ],
      "execution_count": 2,
      "outputs": [
        {
          "output_type": "stream",
          "text": [
            "albert einstein\n"
          ],
          "name": "stdout"
        }
      ]
    },
    {
      "cell_type": "markdown",
      "metadata": {
        "id": "p88dDM6tZ9kY"
      },
      "source": [
        "### Lists\n",
        "A list stores a series of items in a particular order. You access items using an index, or within a loop.\n",
        "\n",
        "**1. Make a list**"
      ]
    },
    {
      "cell_type": "code",
      "metadata": {
        "id": "w0UozOA5Z9kY"
      },
      "source": [
        "bikes = ['trek', 'redline', 'giant']"
      ],
      "execution_count": 3,
      "outputs": []
    },
    {
      "cell_type": "markdown",
      "metadata": {
        "id": "VtFaesnvZ9kY"
      },
      "source": [
        "**2. Get the first item in a list**"
      ]
    },
    {
      "cell_type": "code",
      "metadata": {
        "id": "mgFGTFZ0Z9kY",
        "outputId": "925ec2e3-13fa-4bf5-dc0a-81de9546afaf",
        "colab": {
          "base_uri": "https://localhost:8080/"
        }
      },
      "source": [
        "first_bike = bikes[0]\n",
        "print(first_bike)"
      ],
      "execution_count": 4,
      "outputs": [
        {
          "output_type": "stream",
          "text": [
            "trek\n"
          ],
          "name": "stdout"
        }
      ]
    },
    {
      "cell_type": "markdown",
      "metadata": {
        "id": "cSpH4Sv1Z9kY"
      },
      "source": [
        "**3. Get the last item in a list**"
      ]
    },
    {
      "cell_type": "code",
      "metadata": {
        "id": "bVFk1HNYZ9kY",
        "outputId": "764a9c6f-9f3a-450f-bc44-15f2c0620ce3",
        "colab": {
          "base_uri": "https://localhost:8080/"
        }
      },
      "source": [
        "last_bike = bikes[-1]\n",
        "print(last_bike)"
      ],
      "execution_count": 5,
      "outputs": [
        {
          "output_type": "stream",
          "text": [
            "giant\n"
          ],
          "name": "stdout"
        }
      ]
    },
    {
      "cell_type": "markdown",
      "metadata": {
        "id": "cwD1A5_bZ9kZ"
      },
      "source": [
        "**4. Looking through a list**"
      ]
    },
    {
      "cell_type": "code",
      "metadata": {
        "id": "7-G5OE1wZ9kZ",
        "outputId": "11e0cd2d-bad3-4faa-a978-7d99bae533c7",
        "colab": {
          "base_uri": "https://localhost:8080/"
        }
      },
      "source": [
        "for bike in bikes:\n",
        "    print(bike)"
      ],
      "execution_count": 6,
      "outputs": [
        {
          "output_type": "stream",
          "text": [
            "trek\n",
            "redline\n",
            "giant\n"
          ],
          "name": "stdout"
        }
      ]
    },
    {
      "cell_type": "markdown",
      "metadata": {
        "id": "T_wQOJB9Z9kZ"
      },
      "source": [
        "**5. Adding items to a list**"
      ]
    },
    {
      "cell_type": "code",
      "metadata": {
        "id": "miGbk1A5Z9kZ",
        "outputId": "da74cd79-fc89-4e48-ffa1-5cee64eecdf0",
        "colab": {
          "base_uri": "https://localhost:8080/"
        }
      },
      "source": [
        "bikes = []\n",
        "bikes.append('trek')\n",
        "bikes.append('redline')\n",
        "bikes.append('giant')\n",
        "print(bikes)"
      ],
      "execution_count": 8,
      "outputs": [
        {
          "output_type": "stream",
          "text": [
            "['trek', 'redline', 'giant']\n"
          ],
          "name": "stdout"
        }
      ]
    },
    {
      "cell_type": "markdown",
      "metadata": {
        "id": "VTMZEOXpbFPb"
      },
      "source": [
        "**6. Making numberical lists**"
      ]
    },
    {
      "cell_type": "code",
      "metadata": {
        "id": "GLF1rKgIZ9kZ",
        "outputId": "1cbe9036-2dd1-4931-9a14-33c0d69e0449",
        "colab": {
          "base_uri": "https://localhost:8080/"
        }
      },
      "source": [
        "squares = []\n",
        "for x in range(1, 11):\n",
        "  squares.append(x**2)\n",
        "print(squares)"
      ],
      "execution_count": 11,
      "outputs": [
        {
          "output_type": "stream",
          "text": [
            "[1, 4, 9, 16, 25, 36, 49, 64, 81, 100]\n"
          ],
          "name": "stdout"
        }
      ]
    },
    {
      "cell_type": "markdown",
      "metadata": {
        "id": "YQdF8WuabVkQ"
      },
      "source": [
        "### Lists (cont.)\n",
        "\n",
        "**1. List comprehensions**"
      ]
    },
    {
      "cell_type": "code",
      "metadata": {
        "id": "qv4crm4LbjYg",
        "outputId": "6028bb81-1eb6-43f2-8571-7de34d064786",
        "colab": {
          "base_uri": "https://localhost:8080/"
        }
      },
      "source": [
        "squares = [x**2 for x in range(1, 11)]\n",
        "print(squares)"
      ],
      "execution_count": 12,
      "outputs": [
        {
          "output_type": "stream",
          "text": [
            "[1, 4, 9, 16, 25, 36, 49, 64, 81, 100]\n"
          ],
          "name": "stdout"
        }
      ]
    },
    {
      "cell_type": "markdown",
      "metadata": {
        "id": "BBovb7X0cI9W"
      },
      "source": [
        "**2. Slicing a list**"
      ]
    },
    {
      "cell_type": "code",
      "metadata": {
        "id": "ksHVH2Q8cNk2",
        "outputId": "d0cbfbb1-beaa-422e-8e7e-59b79b347098",
        "colab": {
          "base_uri": "https://localhost:8080/"
        }
      },
      "source": [
        "finishers = ['sam', 'bob', 'ada', 'bea']\n",
        "first_two = finishers[:2]\n",
        "print(first_two)"
      ],
      "execution_count": 13,
      "outputs": [
        {
          "output_type": "stream",
          "text": [
            "['sam', 'bob']\n"
          ],
          "name": "stdout"
        }
      ]
    },
    {
      "cell_type": "markdown",
      "metadata": {
        "id": "vxpwZsMPcc5M"
      },
      "source": [
        "**3. Copying a list**"
      ]
    },
    {
      "cell_type": "code",
      "metadata": {
        "id": "Xg5L2F_jcfeS",
        "outputId": "bcb6f8da-9a2a-419a-bc5c-64030fc98dbe",
        "colab": {
          "base_uri": "https://localhost:8080/"
        }
      },
      "source": [
        "copy_of_bikes = bikes[:]\n",
        "print(copy_of_bikes)"
      ],
      "execution_count": 14,
      "outputs": [
        {
          "output_type": "stream",
          "text": [
            "['trek', 'redline', 'giant']\n"
          ],
          "name": "stdout"
        }
      ]
    }
  ]
}