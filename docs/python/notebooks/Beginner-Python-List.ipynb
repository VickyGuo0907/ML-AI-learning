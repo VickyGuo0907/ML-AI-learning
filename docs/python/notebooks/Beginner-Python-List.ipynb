{
  "nbformat": 4,
  "nbformat_minor": 0,
  "metadata": {
    "kernelspec": {
      "display_name": "Python 3",
      "language": "python",
      "name": "python3"
    },
    "language_info": {
      "codemirror_mode": {
        "name": "ipython",
        "version": 3
      },
      "file_extension": ".py",
      "mimetype": "text/x-python",
      "name": "python",
      "nbconvert_exporter": "python",
      "pygments_lexer": "ipython3",
      "version": "3.8.5"
    },
    "colab": {
      "name": "Beginner-Python-List.ipynb",
      "provenance": []
    }
  },
  "cells": [
    {
      "cell_type": "markdown",
      "metadata": {
        "id": "jeqKwkOiYOpS"
      },
      "source": [
        "# Beginner's Python Cheat Sheet - Lists\n",
        "\n",
        "## What are lists?\n",
        "\n",
        "A List stores a series of items in a particular order. Lists allow you to store sets of information in one place, whether you have just a few items or millions of items. Lists are one of Python's most powerful features readily accessible to new programmers, and they tie together many important concepts in programming. \n",
        "\n",
        "### Defining a List\n",
        "Use square brackets to define a list, and use commas to separate individual items in the list. Use plural names for lists, to make your code easier to read. \n",
        "\n",
        "**1. Making a list**"
      ]
    },
    {
      "cell_type": "code",
      "metadata": {
        "id": "-_-iYH_TYOpW",
        "outputId": "6e9facd0-2fa0-4e5c-d634-70941c97f748"
      },
      "source": [
        "users = ['val', 'bob', 'mia', 'ron', 'ned']\n",
        "print(users)"
      ],
      "execution_count": null,
      "outputs": [
        {
          "output_type": "stream",
          "text": [
            "['val', 'bob', 'mia', 'ron', 'ned']\n"
          ],
          "name": "stdout"
        }
      ]
    },
    {
      "cell_type": "markdown",
      "metadata": {
        "id": "HuKb5PeTYOpX"
      },
      "source": [
        "## Accessing elements\n",
        "Individual elements in a list are accessed according to their postion, called the index. The index of the first element is 0. the index of the second element is 1. and so forth. Negative indices refer to iterns at the end of the list. To get a particular element. write the name of the list and then the index of the element in square brackets.\n"
      ]
    },
    {
      "cell_type": "markdown",
      "metadata": {
        "id": "eg51snzHZgLP"
      },
      "source": [
        "### Getting the first element"
      ]
    },
    {
      "cell_type": "code",
      "metadata": {
        "id": "hOWJ1DdPZeM5"
      },
      "source": [
        "first_user = user[0]\n"
      ],
      "execution_count": null,
      "outputs": []
    }
  ]
}